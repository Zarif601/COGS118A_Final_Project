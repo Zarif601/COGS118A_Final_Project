{
 "cells": [
  {
   "cell_type": "markdown",
   "metadata": {},
   "source": [
    "## T - test across all 9 trials"
   ]
  },
  {
   "cell_type": "code",
   "execution_count": 1,
   "metadata": {},
   "outputs": [],
   "source": [
    "from scipy import stats\n",
    "import numpy as np"
   ]
  },
  {
   "cell_type": "code",
   "execution_count": 2,
   "metadata": {},
   "outputs": [],
   "source": [
    "# Lists to hold accuracies of 9 test set scoress from all datasets\n",
    "\n",
    "knn_acc_all = [0.8237024083936094, 0.8230267864239726, 0.8185756299181305, \n",
    "              0.7697964625736964, 0.7713051116990618, 0.7741297056311327, \n",
    "              0.9283333333333333, 0.9318666666666666, 0.9202]\n",
    "forest_acc_all = [0.8501311501470471, 0.8438120976075034, 0.8471902074556872, \n",
    "                 0.8223422428699402, 0.8233127087630119, 0.8221842600501379, \n",
    "                 0.9492, 0.9485333333333333, 0.9466]\n",
    "logistic_acc_all = [0.8424608536682299, 0.8433351879818775, 0.846395358079644, \n",
    "                   0.7504895731338931, 0.7497447969833961, 0.755926959855003, \n",
    "                   0.7258666666666667, 0.7236666666666667, 0.7233333333333334]"
   ]
  },
  {
   "cell_type": "code",
   "execution_count": 4,
   "metadata": {},
   "outputs": [],
   "source": [
    "# Lists to hold accuracies of 9 train set scoress from all datasets\n",
    "\n",
    "knn_acc_all_train = [1.0, 1.0, 0.828, 1.0, 1.0, 1.0, 1.0, 1.0, 1.0]\n",
    "forest_acc_all_train = [1.0, 1.0, 1.0, 1.0, 1.0, 1.0, 1.0, 1.0, 1.0]\n",
    "logistic_acc_all_train = [0.8528, 0.8548, 0.842, 0.7502, 0.7614, 0.7514, 0.723, 0.7306, 0.724]"
   ]
  },
  {
   "cell_type": "code",
   "execution_count": 5,
   "metadata": {},
   "outputs": [],
   "source": [
    "# T-test between the different algorithms\n",
    "\n",
    "knn_forest = stats.ttest_ind(knn_acc_all, forest_acc_all)\n",
    "\n",
    "forest_logistic = stats.ttest_ind(forest_acc_all, logistic_acc_all)\n",
    "\n",
    "logistic_knn = stats.ttest_ind(logistic_acc_all, knn_acc_all)"
   ]
  },
  {
   "cell_type": "code",
   "execution_count": 6,
   "metadata": {},
   "outputs": [
    {
     "name": "stdout",
     "output_type": "stream",
     "text": [
      "KNN and RandomForest:  Ttest_indResult(statistic=-1.0874015890279447, pvalue=0.29296952937840315)\n",
      "\n",
      "RandomForest and Logistic Regression:  Ttest_indResult(statistic=3.753740970595021, pvalue=0.0017340131831185953)\n",
      "\n",
      "Logistic Regression and KNN:  Ttest_indResult(statistic=-2.283867112188633, pvalue=0.036380095762982935)\n"
     ]
    }
   ],
   "source": [
    "# Results of the T-tests\n",
    "\n",
    "print('KNN and RandomForest: ', knn_forest)\n",
    "print('\\nRandomForest and Logistic Regression: ', forest_logistic)\n",
    "print('\\nLogistic Regression and KNN: ', logistic_knn)"
   ]
  },
  {
   "cell_type": "markdown",
   "metadata": {},
   "source": [
    "## Average test set accuracy across all 9 trials"
   ]
  },
  {
   "cell_type": "code",
   "execution_count": 7,
   "metadata": {},
   "outputs": [
    {
     "name": "stdout",
     "output_type": "stream",
     "text": [
      "Average test set KNN Accuracy:  0.8401040116266226\n",
      "Average test set Random Forest Accuracy:  0.8725895555807401\n",
      "Average test set Logistic Regression Accuracy:  0.7734688218187457\n"
     ]
    }
   ],
   "source": [
    "# Computing the average test set accuracy of the algorithms over 3 trials of each of 3 datasets\n",
    "\n",
    "print(\"Average test set KNN Accuracy: \", np.mean(knn_acc_all))\n",
    "print(\"Average test set Random Forest Accuracy: \", np.mean(forest_acc_all))\n",
    "print(\"Average test set Logistic Regression Accuracy: \", np.mean(logistic_acc_all))"
   ]
  },
  {
   "cell_type": "markdown",
   "metadata": {},
   "source": [
    "## Average train set accuracy across all 9 trials"
   ]
  },
  {
   "cell_type": "code",
   "execution_count": 8,
   "metadata": {},
   "outputs": [
    {
     "name": "stdout",
     "output_type": "stream",
     "text": [
      "Average train set KNN Accuracy:  0.9808888888888888\n",
      "Average train set Random Forest Accuracy:  1.0\n",
      "Average train set Logistic Regression Accuracy:  0.776688888888889\n"
     ]
    }
   ],
   "source": [
    "# Computing the average train set accuracy of the algorithms over 3 trials of each of 3 datasets\n",
    "\n",
    "print(\"Average train set KNN Accuracy: \", np.mean(knn_acc_all_train))\n",
    "print(\"Average train set Random Forest Accuracy: \", np.mean(forest_acc_all_train))\n",
    "print(\"Average train set Logistic Regression Accuracy: \", np.mean(logistic_acc_all_train))"
   ]
  }
 ],
 "metadata": {
  "kernelspec": {
   "display_name": "Python 3",
   "language": "python",
   "name": "python3"
  },
  "language_info": {
   "codemirror_mode": {
    "name": "ipython",
    "version": 3
   },
   "file_extension": ".py",
   "mimetype": "text/x-python",
   "name": "python",
   "nbconvert_exporter": "python",
   "pygments_lexer": "ipython3",
   "version": "3.9.6"
  }
 },
 "nbformat": 4,
 "nbformat_minor": 2
}
